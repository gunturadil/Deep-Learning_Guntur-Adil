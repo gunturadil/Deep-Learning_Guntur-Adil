{
 "cells": [
  {
   "cell_type": "markdown",
   "metadata": {},
   "source": [
    "# PYTHON"
   ]
  },
  {
   "cell_type": "markdown",
   "metadata": {},
   "source": [
    "Python merupakan bahasa pemrograman yang dibangun oleh Guido Van Rossum dan dirilis pada tahun 1991.\n",
    "\n",
    "Apa yang bisa Python lakukan :\n",
    "1. Python bisa digunakan sebagai server untuk membangun aplikasi web\n",
    "2. Python dapat terkoneksi ke database dan melakukan read and modify files\n",
    "3. Python dapat menghandle data besar dan perhitungan matematika kompleks\n",
    "4. Python dapat digunakan sebagai rapid prototyping\n",
    "\n",
    "Kenapa Python :\n",
    "1. Python dapat bekerja pada platform yang berbeda (windows, mac, linux, raspberry, dll)\n",
    "2. Python memiliki syntax yang menyerupai bahasa inggris\n",
    "3. Python memiliki syntax yang memungkinkan developer untuk menulis program dengan lebih ringkas\n",
    "4. Python berjalan pada sebuah system interpreter yang artinya kode tersebut dapat dieksekusi saat diberi perintah"
   ]
  },
  {
   "attachments": {},
   "cell_type": "markdown",
   "metadata": {},
   "source": [
    "## VARIABEL\n",
    "\n",
    "Variabel merupakan lokasi penyimpanan dan terkait nama simbolis yang berisi beberapa kuantitas / nilai yang diketahui dan tidak diketahui.\n",
    "\n",
    "Aturan variabel pada python :\n",
    "- Sebuah variable harus dimulai dengan huruf atau karakter underscore\n",
    "- Sebuah variable tidak bisa dimulai dengan angka\n",
    "- Sebuah variable hanya dapat berisi alpha-numeric dan underscore (A-z, 0-9 dan _ )\n",
    "- Penamaan sebuah variable bersifat case sensitive (artinya : Umur, umur dan UMUR merupakan variable yang berbeda)"
   ]
  },
  {
   "cell_type": "code",
   "execution_count": 1,
   "metadata": {},
   "outputs": [
    {
     "data": {
      "text/plain": [
       "(20, 30, 40)"
      ]
     },
     "execution_count": 1,
     "metadata": {},
     "output_type": "execute_result"
    }
   ],
   "source": [
    "umur = 20\n",
    "Umur = 30\n",
    "UMUR = 40\n",
    "umur, Umur, UMUR"
   ]
  },
  {
   "cell_type": "markdown",
   "metadata": {},
   "source": [
    "## STRINGS\n",
    "\n",
    "Mengubah Case dalam string dengan menggunakan method :"
   ]
  },
  {
   "cell_type": "code",
   "execution_count": 2,
   "metadata": {},
   "outputs": [],
   "source": [
    "txt = \"bahAsA pYthon\""
   ]
  },
  {
   "cell_type": "markdown",
   "metadata": {},
   "source": [
    "- Title()\n",
    "\n",
    "Dengan method ini program akan menghasilkan output berupa huruf capital pada setiap awak kata"
   ]
  },
  {
   "cell_type": "code",
   "execution_count": 3,
   "metadata": {},
   "outputs": [
    {
     "data": {
      "text/plain": [
       "'Bahasa Python'"
      ]
     },
     "execution_count": 3,
     "metadata": {},
     "output_type": "execute_result"
    }
   ],
   "source": [
    "txt.title()"
   ]
  },
  {
   "cell_type": "markdown",
   "metadata": {},
   "source": [
    "- Upper()\n",
    "\n",
    "Dengan method ini program akan menghasilkan output berupa huruf capital atau uppercase pada semua huruf yang muncul"
   ]
  },
  {
   "cell_type": "code",
   "execution_count": 4,
   "metadata": {},
   "outputs": [
    {
     "data": {
      "text/plain": [
       "'BAHASA PYTHON'"
      ]
     },
     "execution_count": 4,
     "metadata": {},
     "output_type": "execute_result"
    }
   ],
   "source": [
    "txt.upper()"
   ]
  },
  {
   "cell_type": "markdown",
   "metadata": {},
   "source": [
    "- Lower()\n",
    "\n",
    "Dengan method ini program akan menghasilkan output berupa huruf kecil atau lowercase pada setiap huruf yang muncul"
   ]
  },
  {
   "cell_type": "code",
   "execution_count": 5,
   "metadata": {},
   "outputs": [
    {
     "data": {
      "text/plain": [
       "'bahasa python'"
      ]
     },
     "execution_count": 5,
     "metadata": {},
     "output_type": "execute_result"
    }
   ],
   "source": [
    "txt.lower()"
   ]
  },
  {
   "attachments": {},
   "cell_type": "markdown",
   "metadata": {},
   "source": [
    "## Adding whitespace to Strings with Tabs or Newlines\n",
    "\n",
    "Untuk membuat tabulasi pada python dapat menggunakan kombinasi karakter \\t, sedangkan ketika kita ingin membuat baris baru kita dapat membuatnya dengan kombinasi karakter \\n. \n"
   ]
  },
  {
   "cell_type": "code",
   "execution_count": 6,
   "metadata": {},
   "outputs": [
    {
     "name": "stdout",
     "output_type": "stream",
     "text": [
      "Language : \tPython\tC\tJavaScript\n",
      "==================================\n",
      "Language : \n",
      "Python\n",
      "C\n",
      "JavaScript\n",
      "==================================\n",
      "Language : \n",
      "\tPython\n",
      "\tC\n",
      "\tJavaScript\n"
     ]
    }
   ],
   "source": [
    "# with \\t\n",
    "print(\"Language : \\tPython\\tC\\tJavaScript\")\n",
    "print(\"==================================\")\n",
    "# with \\n\n",
    "print(\"Language : \\nPython\\nC\\nJavaScript\")\n",
    "print(\"==================================\")\n",
    "# Combine \\n\\t\n",
    "print(\"Language : \\n\\tPython\\n\\tC\\n\\tJavaScript\")"
   ]
  },
  {
   "cell_type": "markdown",
   "metadata": {},
   "source": [
    "## Stripping Whitespace\n",
    "\n",
    "Python dapat melihat extra whitespace yang terdapat pada kanan atau kiri sebuah string. Untuk memastikan tidak adanya whitespace kita dapat menggunakan method :\n",
    "rstrip()(menghapus whitespace sebelah kanan) \n",
    "lstrip() (menghapus whitespace sebelah kiri) \n",
    "strip(menghapus whitespace pada kedua sisi)"
   ]
  },
  {
   "cell_type": "code",
   "execution_count": 7,
   "metadata": {},
   "outputs": [],
   "source": [
    "bahasa = \" ular \""
   ]
  },
  {
   "cell_type": "markdown",
   "metadata": {},
   "source": [
    "- rstrip()"
   ]
  },
  {
   "cell_type": "code",
   "execution_count": 8,
   "metadata": {},
   "outputs": [
    {
     "data": {
      "text/plain": [
       "' ular'"
      ]
     },
     "execution_count": 8,
     "metadata": {},
     "output_type": "execute_result"
    }
   ],
   "source": [
    "bahasa.rstrip()"
   ]
  },
  {
   "cell_type": "markdown",
   "metadata": {},
   "source": [
    "- lstrip()"
   ]
  },
  {
   "cell_type": "code",
   "execution_count": 9,
   "metadata": {},
   "outputs": [
    {
     "data": {
      "text/plain": [
       "'ular '"
      ]
     },
     "execution_count": 9,
     "metadata": {},
     "output_type": "execute_result"
    }
   ],
   "source": [
    "bahasa.lstrip()"
   ]
  },
  {
   "cell_type": "markdown",
   "metadata": {},
   "source": [
    "- strip()"
   ]
  },
  {
   "cell_type": "code",
   "execution_count": 10,
   "metadata": {},
   "outputs": [
    {
     "data": {
      "text/plain": [
       "'ular'"
      ]
     },
     "execution_count": 10,
     "metadata": {},
     "output_type": "execute_result"
    }
   ],
   "source": [
    "bahasa.strip()"
   ]
  },
  {
   "attachments": {},
   "cell_type": "markdown",
   "metadata": {},
   "source": [
    "## NUMBERS\n",
    "\n",
    "Number biasanya digunakan untuk merepresentasikan sebuah nilai.\n",
    "\n",
    "### Integers\n",
    "\n",
    "Kita dapat menggunakan operator +, -, *, / pada pemrograman python\n",
    "Ketika kita ingin menggunakan operator pangkat (eksponen) atau pengakaran kita dapat menggunakan ** atau //"
   ]
  },
  {
   "cell_type": "code",
   "execution_count": 11,
   "metadata": {},
   "outputs": [
    {
     "name": "stdout",
     "output_type": "stream",
     "text": [
      "15 5 2 2\n",
      "25\n",
      "125\n",
      "5\n"
     ]
    }
   ],
   "source": [
    "print(10 + 5, 10 - 5, int(10/5), 10//5)\n",
    "print(5 ** 2)\n",
    "print(5 ** 3)\n",
    "print(int(125**(1/3)))"
   ]
  },
  {
   "attachments": {},
   "cell_type": "markdown",
   "metadata": {},
   "source": [
    "### FLOATS\n",
    "\n",
    "Python menyebut number / angka yang memiliki decimal point sebagai float. Artinya bilangan yang memiliki koma adalah float."
   ]
  },
  {
   "cell_type": "code",
   "execution_count": 12,
   "metadata": {},
   "outputs": [
    {
     "name": "stdout",
     "output_type": "stream",
     "text": [
      "<class 'float'> <class 'float'> <class 'float'> <class 'int'>\n"
     ]
    }
   ],
   "source": [
    "x = 2.5\n",
    "y = 5.123\n",
    "z = 3.0\n",
    "v = 250\n",
    "print(type(x),type(y),type(z),type(v))\n"
   ]
  },
  {
   "cell_type": "markdown",
   "metadata": {},
   "source": [
    "## MENGUBAH TIPE DATA SUATU VARIABEL"
   ]
  },
  {
   "cell_type": "code",
   "execution_count": 13,
   "metadata": {},
   "outputs": [
    {
     "name": "stdout",
     "output_type": "stream",
     "text": [
      "<class 'int'>\n",
      "<class 'str'>\n"
     ]
    }
   ],
   "source": [
    "umur = 22\n",
    "print(type(umur))\n",
    "print(type(str(umur)))"
   ]
  },
  {
   "cell_type": "code",
   "execution_count": 14,
   "metadata": {},
   "outputs": [
    {
     "name": "stdout",
     "output_type": "stream",
     "text": [
      "Selamat ulang tahun ke-22\n"
     ]
    },
    {
     "data": {
      "text/plain": [
       "str"
      ]
     },
     "execution_count": 14,
     "metadata": {},
     "output_type": "execute_result"
    }
   ],
   "source": [
    "pesan = \"Selamat ulang tahun ke-\" + str(umur)\n",
    "print(pesan)\n",
    "type(pesan)"
   ]
  },
  {
   "cell_type": "markdown",
   "metadata": {},
   "source": [
    "## LIST\n",
    "\n",
    "List adalah kumpulan item dalam urutan tertentu, kita dapat membuat list dengan huruf alphabet, angka 0-9 atau nama-nama tertentu kedalam sebuah list.\n",
    "\n",
    "List dalam python diindikasikan dengan bracket ([]) dan elemen dari list terpisahkan oleh koma (,)\n"
   ]
  },
  {
   "cell_type": "markdown",
   "metadata": {},
   "source": [
    "### Mengakses Elemen List\n",
    "\n",
    "Untuk mengakses elemen dalam sebuah list kita harus mengetahui dan menuliskan index posisi elemen dalam list tersebut. \n",
    "\n",
    "Index position dalam list dimulai dari 0 jadi misalkan terdapat [1,2,3,4] maka 1 terdapat dalam index 0 dan 2 adalah index 1. Namun ketika kita menginputkan index -1 maka elemen yang diambil adalah elemen urutan terakhir dalam list tersebut."
   ]
  },
  {
   "cell_type": "code",
   "execution_count": 15,
   "metadata": {},
   "outputs": [],
   "source": [
    "kendaraan = ['mobil','motor','sepeda','perahu','pesawat']"
   ]
  },
  {
   "cell_type": "code",
   "execution_count": 16,
   "metadata": {},
   "outputs": [
    {
     "name": "stdout",
     "output_type": "stream",
     "text": [
      "mobil\n",
      "perahu\n"
     ]
    }
   ],
   "source": [
    "print(kendaraan[0])\n",
    "print(kendaraan[3])"
   ]
  },
  {
   "cell_type": "code",
   "execution_count": 17,
   "metadata": {},
   "outputs": [
    {
     "name": "stdout",
     "output_type": "stream",
     "text": [
      "kendaraan yang terbang adalah pesawat\n"
     ]
    }
   ],
   "source": [
    "txt = \"kendaraan yang terbang adalah \" + kendaraan[4]\n",
    "print(txt)"
   ]
  },
  {
   "cell_type": "markdown",
   "metadata": {},
   "source": [
    "### Mengubah Elemen List"
   ]
  },
  {
   "cell_type": "code",
   "execution_count": 18,
   "metadata": {},
   "outputs": [
    {
     "name": "stdout",
     "output_type": "stream",
     "text": [
      "['mobil', 'motor', 'sepeda', 'perahu', 'kapal selam']\n",
      "kapal selam\n"
     ]
    }
   ],
   "source": [
    "kendaraan[4] = \"kapal selam\"\n",
    "print(kendaraan)\n",
    "print(kendaraan[4])"
   ]
  },
  {
   "cell_type": "markdown",
   "metadata": {},
   "source": [
    "### Menambah Elemen List"
   ]
  },
  {
   "cell_type": "code",
   "execution_count": 19,
   "metadata": {},
   "outputs": [
    {
     "name": "stdout",
     "output_type": "stream",
     "text": [
      "['mobil', 'motor', 'sepeda', 'perahu', 'kapal selam', 'skateboard']\n"
     ]
    }
   ],
   "source": [
    "kendaraan.append(\"skateboard\")\n",
    "print(kendaraan)"
   ]
  },
  {
   "cell_type": "code",
   "execution_count": 20,
   "metadata": {},
   "outputs": [
    {
     "name": "stdout",
     "output_type": "stream",
     "text": [
      "['pesawat', 'mobil', 'motor', 'sepeda', 'perahu', 'kapal selam', 'skateboard']\n"
     ]
    }
   ],
   "source": [
    "kendaraan.insert(0, \"pesawat\")\n",
    "print(kendaraan)"
   ]
  },
  {
   "cell_type": "markdown",
   "metadata": {},
   "source": [
    "### Menghapus Elemen List"
   ]
  },
  {
   "cell_type": "code",
   "execution_count": 21,
   "metadata": {},
   "outputs": [
    {
     "name": "stdout",
     "output_type": "stream",
     "text": [
      "['pesawat', 'mobil', 'motor', 'sepeda', 'perahu', 'kapal selam', 'skateboard']\n",
      "['pesawat', 'motor', 'sepeda', 'perahu', 'kapal selam', 'skateboard']\n"
     ]
    }
   ],
   "source": [
    "print(kendaraan)\n",
    "del kendaraan[1]\n",
    "print(kendaraan)"
   ]
  },
  {
   "cell_type": "code",
   "execution_count": 22,
   "metadata": {},
   "outputs": [
    {
     "name": "stdout",
     "output_type": "stream",
     "text": [
      "['pesawat', 'motor', 'sepeda', 'perahu', 'kapal selam']\n"
     ]
    }
   ],
   "source": [
    "kendaraan.remove(\"skateboard\")\n",
    "print(kendaraan)"
   ]
  },
  {
   "cell_type": "markdown",
   "metadata": {},
   "source": [
    "### Sorting List\n",
    "\n",
    "Sorting permanen dengan menggunakan perintah sort(). Ini akan mensorting elemen list dari urutan alphabetic a-z.\n",
    "\n",
    "Sorting temporarily dengan menggunakan perintah sorted(). Sama seperti sort() namun perintah ini tidak menyimpan sorting tersebut secara permanen\n"
   ]
  },
  {
   "cell_type": "code",
   "execution_count": 23,
   "metadata": {},
   "outputs": [
    {
     "name": "stdout",
     "output_type": "stream",
     "text": [
      "['pesawat', 'motor', 'sepeda', 'perahu', 'kapal selam']\n",
      "['kapal selam', 'motor', 'perahu', 'pesawat', 'sepeda']\n"
     ]
    }
   ],
   "source": [
    "print(kendaraan)\n",
    "kendaraan.sort()\n",
    "print(kendaraan)"
   ]
  },
  {
   "cell_type": "code",
   "execution_count": 24,
   "metadata": {},
   "outputs": [
    {
     "name": "stdout",
     "output_type": "stream",
     "text": [
      "['mobil', 'motor', 'sepeda', 'perahu', 'pesawat']\n",
      "['mobil', 'motor', 'perahu', 'pesawat', 'sepeda']\n",
      "['mobil', 'motor', 'sepeda', 'perahu', 'pesawat']\n"
     ]
    }
   ],
   "source": [
    "kendaraan = ['mobil','motor','sepeda','perahu','pesawat']\n",
    "print(kendaraan)\n",
    "print(sorted(kendaraan))\n",
    "print(kendaraan)"
   ]
  },
  {
   "cell_type": "markdown",
   "metadata": {},
   "source": [
    "### Reverse List\n",
    "\n",
    "Kita bisa melakukan sorting secara reverse / kebalikan dengan menggunakan fungsi reverse(). Namun bukan berdasarkan alphabet, tetapi berdasarkan urutan elemen dari list tersebut.\n"
   ]
  },
  {
   "cell_type": "code",
   "execution_count": 25,
   "metadata": {},
   "outputs": [
    {
     "name": "stdout",
     "output_type": "stream",
     "text": [
      "['mobil', 'motor', 'sepeda', 'perahu', 'pesawat']\n",
      "['pesawat', 'perahu', 'sepeda', 'motor', 'mobil']\n"
     ]
    }
   ],
   "source": [
    "print(kendaraan)\n",
    "kendaraan.reverse()\n",
    "print(kendaraan)"
   ]
  },
  {
   "cell_type": "code",
   "execution_count": 26,
   "metadata": {},
   "outputs": [
    {
     "name": "stdout",
     "output_type": "stream",
     "text": [
      "['sepeda', 'pesawat', 'perahu', 'motor', 'mobil']\n"
     ]
    }
   ],
   "source": [
    "kendaraan.sort()\n",
    "kendaraan.reverse()\n",
    "print(kendaraan)"
   ]
  },
  {
   "attachments": {},
   "cell_type": "markdown",
   "metadata": {},
   "source": [
    "## DICTIONARY\n",
    "\n",
    "Dengan dictionary anda dapat merepresentasikan sesuatu dan menyimpan informasi yang kamu butuhkan dari sesuatu tersebut. Contohnya kamu bisa menyisipkan nama, umur dan warna yang akan mendeskripsikan objek yang kamu amati.\n",
    "Pada python dictionaries dituliskan dengan curly bracket({}), dan memiliki keys and values.\n",
    "\n",
    "Cara mengakses item pada dictionary adalah dengan cara menginputkan key name didalam square bracket ([]). Akses item juga dapat dilakukan menggunakan method get(“key_name”).\n"
   ]
  },
  {
   "cell_type": "code",
   "execution_count": 27,
   "metadata": {},
   "outputs": [
    {
     "name": "stdout",
     "output_type": "stream",
     "text": [
      "jakarta\n",
      "depok\n",
      "jakarta\n",
      "depok\n"
     ]
    }
   ],
   "source": [
    "teman0 = {'nama':'budi', 'umur':'25', 'kota':'jakarta'}\n",
    "teman1 = {'nama':'yuda', 'umur':'22', 'kota':'depok'}\n",
    "print(teman0['kota'])\n",
    "print(teman1['kota'])\n",
    "x = teman0['kota']\n",
    "print(x)\n",
    "x = teman1.get('kota')\n",
    "print(x)"
   ]
  },
  {
   "cell_type": "markdown",
   "metadata": {},
   "source": [
    "### Mengubah elemen dictionary\n",
    "\n",
    "Anda dapat mengubah nilai item spesifik pada dictionaries dengan menuliskan key_name milik value yang akan anda ubah."
   ]
  },
  {
   "cell_type": "code",
   "execution_count": 28,
   "metadata": {},
   "outputs": [
    {
     "name": "stdout",
     "output_type": "stream",
     "text": [
      "{'nama': 'budi', 'umur': '25', 'kota': 'jakarta'}\n",
      "{'nama': 'yuda', 'umur': '22', 'kota': 'depok'}\n"
     ]
    }
   ],
   "source": [
    "print(teman0)\n",
    "print(teman1)"
   ]
  },
  {
   "cell_type": "code",
   "execution_count": 29,
   "metadata": {},
   "outputs": [
    {
     "name": "stdout",
     "output_type": "stream",
     "text": [
      "{'nama': 'budi', 'umur': '25', 'kota': 'Palembang'}\n"
     ]
    }
   ],
   "source": [
    "teman0['kota']='Palembang'\n",
    "print(teman0)"
   ]
  },
  {
   "cell_type": "markdown",
   "metadata": {},
   "source": [
    "### Menambah elemen dictionary\n",
    "\n",
    "Untuk menambah item ke dalam dictionary kita dapat melakukannya dengan membuat index baru dengan keyname dan value item tersebut."
   ]
  },
  {
   "cell_type": "code",
   "execution_count": 30,
   "metadata": {},
   "outputs": [
    {
     "name": "stdout",
     "output_type": "stream",
     "text": [
      "{'nama': 'budi', 'umur': '25', 'kota': 'Palembang', 'status': 'menikah'}\n"
     ]
    }
   ],
   "source": [
    "teman0['status']='menikah'\n",
    "print(teman0)"
   ]
  },
  {
   "cell_type": "markdown",
   "metadata": {},
   "source": [
    "### Mengapus elemen dictionary\n",
    "\n",
    "Ada beberapa method untuk menghapus item pada dictionaries yaitu pop(),  popitem() dan del.\n",
    "\n",
    "Hati-hati pada pengggunaan del, karena dengan penulisan yang salah bisa jadi kita menghapus dictionaries tersebut bukan hanya menghapus itemnya.\n",
    "\n",
    "Namun jika kita ingin menghapus seluruh item pada dictionary tanpa menghapus dictionary tersebut kita dapat melakukan method clear()."
   ]
  },
  {
   "cell_type": "code",
   "execution_count": 31,
   "metadata": {},
   "outputs": [
    {
     "name": "stdout",
     "output_type": "stream",
     "text": [
      "{'nama': 'budi', 'umur': '25', 'kota': 'Palembang', 'status': 'menikah'}\n",
      "{'nama': 'yuda', 'umur': '22', 'kota': 'depok'}\n"
     ]
    }
   ],
   "source": [
    "print(teman0)\n",
    "print(teman1)"
   ]
  },
  {
   "cell_type": "code",
   "execution_count": 32,
   "metadata": {},
   "outputs": [
    {
     "name": "stdout",
     "output_type": "stream",
     "text": [
      "{'nama': 'budi', 'kota': 'Palembang', 'status': 'menikah'}\n"
     ]
    }
   ],
   "source": [
    "teman0.pop('umur')\n",
    "print(teman0)"
   ]
  },
  {
   "cell_type": "code",
   "execution_count": 33,
   "metadata": {},
   "outputs": [
    {
     "name": "stdout",
     "output_type": "stream",
     "text": [
      "{'nama': 'budi', 'kota': 'Palembang'}\n"
     ]
    }
   ],
   "source": [
    "teman0.popitem()\n",
    "print(teman0)"
   ]
  },
  {
   "cell_type": "code",
   "execution_count": 34,
   "metadata": {},
   "outputs": [
    {
     "name": "stdout",
     "output_type": "stream",
     "text": [
      "{'kota': 'Palembang'}\n"
     ]
    }
   ],
   "source": [
    "del teman0['nama']\n",
    "print(teman0)"
   ]
  },
  {
   "cell_type": "code",
   "execution_count": 35,
   "metadata": {},
   "outputs": [
    {
     "name": "stdout",
     "output_type": "stream",
     "text": [
      "{}\n"
     ]
    }
   ],
   "source": [
    "teman1.clear()\n",
    "print(teman1)"
   ]
  },
  {
   "cell_type": "code",
   "execution_count": 36,
   "metadata": {},
   "outputs": [
    {
     "name": "stdout",
     "output_type": "stream",
     "text": [
      "{'kota': 'Palembang'}\n"
     ]
    }
   ],
   "source": [
    "print(teman0)\n",
    "del teman0"
   ]
  },
  {
   "cell_type": "code",
   "execution_count": 37,
   "metadata": {},
   "outputs": [
    {
     "ename": "NameError",
     "evalue": "name 'teman0' is not defined",
     "output_type": "error",
     "traceback": [
      "\u001b[1;31m----------------------------------------------------------------------\u001b[0m",
      "\u001b[1;31mNameError\u001b[0m                            Traceback (most recent call last)",
      "\u001b[1;32m<ipython-input-37-265033669831>\u001b[0m in \u001b[0;36m<module>\u001b[1;34m\u001b[0m\n\u001b[1;32m----> 1\u001b[1;33m \u001b[0mprint\u001b[0m\u001b[1;33m(\u001b[0m\u001b[0mteman0\u001b[0m\u001b[1;33m)\u001b[0m\u001b[1;33m\u001b[0m\u001b[0m\n\u001b[0m",
      "\u001b[1;31mNameError\u001b[0m: name 'teman0' is not defined"
     ]
    }
   ],
   "source": [
    "print(teman0)"
   ]
  },
  {
   "cell_type": "markdown",
   "metadata": {},
   "source": [
    "error tersebut terjadi dikarenakan program tidak lagi membaca adanya ditionary yang bernama teman0"
   ]
  },
  {
   "cell_type": "markdown",
   "metadata": {},
   "source": [
    "## TUPLES\n",
    "\n",
    "A tuple is a collection which is ordered and unchangable. Berbeda dari list, isi elemen pada tupel tidak dapat diubah. Pada python tuple dituliskan dengan kurung buka dan kurung tutup.\n",
    "\n",
    "Sama seperti list cara kita untuk mengakses elemen tuple adalah dengan menuliskan index dari elemen pada tuple tersebut.\n",
    "\n",
    "#### Tuple is unchangable. Elemen tuple tidak bisa diubah, ditambah atau dihapus. kita hanya bisa melakukan penghapusan tuple tersebut"
   ]
  },
  {
   "cell_type": "code",
   "execution_count": null,
   "metadata": {},
   "outputs": [],
   "source": [
    "buah = ('apel','pisang','mangga')\n",
    "print(buah)"
   ]
  },
  {
   "cell_type": "code",
   "execution_count": null,
   "metadata": {},
   "outputs": [],
   "source": [
    "print(buah[1])"
   ]
  },
  {
   "cell_type": "code",
   "execution_count": null,
   "metadata": {},
   "outputs": [],
   "source": [
    "del buah"
   ]
  },
  {
   "cell_type": "code",
   "execution_count": null,
   "metadata": {},
   "outputs": [],
   "source": [
    "print(buah)"
   ]
  },
  {
   "cell_type": "markdown",
   "metadata": {},
   "source": [
    "Tuple telah dihapus"
   ]
  },
  {
   "cell_type": "markdown",
   "metadata": {},
   "source": [
    "## PERCABANGAN\n",
    "\n",
    "### If Else"
   ]
  },
  {
   "cell_type": "code",
   "execution_count": null,
   "metadata": {},
   "outputs": [],
   "source": [
    "score = 75\n",
    "if score < 75:\n",
    "    print('Try again later')\n",
    "else:\n",
    "    print('awesome, you did good')"
   ]
  },
  {
   "cell_type": "markdown",
   "metadata": {},
   "source": [
    "### If Elif Else"
   ]
  },
  {
   "cell_type": "code",
   "execution_count": null,
   "metadata": {},
   "outputs": [],
   "source": [
    "if score < 75:\n",
    "    print('Try again Later')\n",
    "elif score == 75:\n",
    "    print('nice')\n",
    "else:\n",
    "    print('Awesome you did good')"
   ]
  },
  {
   "cell_type": "markdown",
   "metadata": {},
   "source": [
    "### Short Hand If"
   ]
  },
  {
   "cell_type": "code",
   "execution_count": null,
   "metadata": {},
   "outputs": [],
   "source": [
    "print('Awesome') if score > 70 else print('Try Again')"
   ]
  },
  {
   "cell_type": "markdown",
   "metadata": {},
   "source": [
    "## PERULANGAN"
   ]
  },
  {
   "cell_type": "markdown",
   "metadata": {},
   "source": [
    "### For"
   ]
  },
  {
   "cell_type": "code",
   "execution_count": null,
   "metadata": {},
   "outputs": [],
   "source": [
    "for x in range(4):\n",
    "    print(x)"
   ]
  },
  {
   "cell_type": "markdown",
   "metadata": {},
   "source": [
    "### For Else"
   ]
  },
  {
   "cell_type": "code",
   "execution_count": null,
   "metadata": {},
   "outputs": [],
   "source": [
    "for x in range(4):\n",
    "    print(x)\n",
    "else:\n",
    "    print('Finish')"
   ]
  },
  {
   "cell_type": "markdown",
   "metadata": {},
   "source": [
    "### While"
   ]
  },
  {
   "cell_type": "code",
   "execution_count": null,
   "metadata": {},
   "outputs": [],
   "source": [
    "x = 0\n",
    "while (x <= 5):\n",
    "    print(x)\n",
    "    x += 1"
   ]
  },
  {
   "cell_type": "markdown",
   "metadata": {},
   "source": [
    "# DONE, Thank you"
   ]
  },
  {
   "cell_type": "markdown",
   "metadata": {},
   "source": [
    "# REFERENCES FROM :\n",
    "\n",
    "https://www.w3schools.com/python/default.asp\n",
    "\n",
    "https://www.tutorialspoint.com/python/python_tuples.htm\n",
    "\n",
    "https://the-eye.eu/public/Books/qt.vidyagam.es/library/Programming/Python/Python%20Crash%20Course_%20A%20Hands-On%2C%20Project-Based%20Introduction%20to%20Programming/Python%20Crash%20Course_%20A%20Hands-On%2C%20Project-Based%20Introduction%20to%20Programming%20-%20Eric%20Matthes.pdf\n"
   ]
  }
 ],
 "metadata": {
  "kernelspec": {
   "display_name": "Python 3",
   "language": "python",
   "name": "python3"
  },
  "language_info": {
   "codemirror_mode": {
    "name": "ipython",
    "version": 3
   },
   "file_extension": ".py",
   "mimetype": "text/x-python",
   "name": "python",
   "nbconvert_exporter": "python",
   "pygments_lexer": "ipython3",
   "version": "3.6.5"
  }
 },
 "nbformat": 4,
 "nbformat_minor": 2
}
